{
 "cells": [
  {
   "cell_type": "code",
   "execution_count": null,
   "metadata": {},
   "outputs": [],
   "source": [
    "import numpy as np\n",
    "import pandas as pd\n",
    "import seaborn as sns\n",
    "import matplotlib.pyplot as plt\n",
    "import statsmodels.api as sm\n",
    "import statsmodels.formula.api as smf"
   ]
  },
  {
   "cell_type": "code",
   "execution_count": null,
   "metadata": {},
   "outputs": [],
   "source": [
    "# Load data into a pandas dataframe\n",
    "df = pd.read_csv(\"~/Telehealth/Data/all_subspecialty_geocoded_230315.csv\")"
   ]
  },
  {
   "cell_type": "code",
   "execution_count": null,
   "metadata": {},
   "outputs": [],
   "source": [
    "df=df.loc[((df[\"timepoint\"]==2021)|\n",
    "            (df[\"timepoint\"]==2022)) &\n",
    "           (df[\"insurance_cat2\"]!=\"Other\") &\n",
    "            (df[\"race_ethnic_cat2\"]!= \"Other\") &\n",
    "            (df[\"encounter_status_name\"] != \"Canceled\")]\n",
    "data = df"
   ]
  },
  {
   "cell_type": "code",
   "execution_count": null,
   "metadata": {},
   "outputs": [],
   "source": [
    "data"
   ]
  },
  {
   "cell_type": "code",
   "execution_count": null,
   "metadata": {
    "scrolled": true
   },
   "outputs": [],
   "source": [
    "data[\"timepoint\"].value_counts()"
   ]
  },
  {
   "cell_type": "code",
   "execution_count": null,
   "metadata": {},
   "outputs": [],
   "source": [
    "data[\"month_quarter\"].value_counts()"
   ]
  },
  {
   "cell_type": "code",
   "execution_count": null,
   "metadata": {},
   "outputs": [],
   "source": [
    "data[\"month_quarter_ord\"] = data[\"month_quarter\"].apply(lambda x: 1 if x == \"Jan to Mar 2021\" \n",
    "                                                          else (\n",
    "                                                          2 if x== \"Apr to Jun 2021\" else\n",
    "                                                          (3 if x== \"Jul to Sep 2021\" else (\n",
    "                                                          4 if x== \"Oct to Dec 2021\" else (\n",
    "                                                          5 if x== \"Jan to Mar 2022\" else(\n",
    "                                                          6 if x == \"Apr to Jun 2022\" else 0))))))\n",
    "data[\"month_quarter_ord\"].value_counts()"
   ]
  },
  {
   "cell_type": "code",
   "execution_count": null,
   "metadata": {},
   "outputs": [],
   "source": [
    "data[\"New_Patient\"].value_counts()"
   ]
  },
  {
   "cell_type": "code",
   "execution_count": null,
   "metadata": {},
   "outputs": [],
   "source": [
    "data[\"visit_weekDiff_cat\"] = data.apply(lambda x: 0 if x[\"New_Patient\"] == 1\n",
    "                                                          else (\n",
    "                                                          1 if x[\"visit_weekDiff\"] < 3 else\n",
    "                                                          (2 if x[\"visit_weekDiff\"]< 12 else (3))),axis=1)\n",
    "data[\"visit_weekDiff_cat\"].value_counts()"
   ]
  },
  {
   "cell_type": "code",
   "execution_count": null,
   "metadata": {},
   "outputs": [],
   "source": [
    "data[\"noshow\"] = data[\"encounter_status_name\"].apply(lambda x: 1 if x == \"No Show\" \n",
    "                                                          else 0)\n",
    "data[\"noshow\"].value_counts()"
   ]
  },
  {
   "cell_type": "code",
   "execution_count": null,
   "metadata": {},
   "outputs": [],
   "source": [
    "data[\"encounter_status_name\"].value_counts()"
   ]
  },
  {
   "cell_type": "code",
   "execution_count": null,
   "metadata": {},
   "outputs": [],
   "source": [
    "data.groupby([\"race_ethnic_cat2\",\"is_telehealth\"])[\"encounter_status_name\"].value_counts()"
   ]
  },
  {
   "cell_type": "code",
   "execution_count": null,
   "metadata": {},
   "outputs": [],
   "source": [
    "47094/1405374"
   ]
  },
  {
   "cell_type": "code",
   "execution_count": null,
   "metadata": {},
   "outputs": [],
   "source": [
    "data[\"Household Median Income\"].describe()"
   ]
  },
  {
   "cell_type": "code",
   "execution_count": null,
   "metadata": {},
   "outputs": [],
   "source": [
    "data[\"Median_Income_Cat\"] = data[\"Household Median Income\"].apply(lambda x: 1 if(x<50000)\n",
    "                                                                                      else (2 if x<=100000\n",
    "                                                                                            else (3)))\n",
    "data[\"Median_Income_Cat\"].value_counts()"
   ]
  },
  {
   "cell_type": "code",
   "execution_count": null,
   "metadata": {},
   "outputs": [],
   "source": [
    "297279/(297279+970774+1523871)"
   ]
  },
  {
   "cell_type": "code",
   "execution_count": null,
   "metadata": {},
   "outputs": [],
   "source": [
    "data[\"insurance_cat2\"].value_counts()"
   ]
  },
  {
   "cell_type": "code",
   "execution_count": null,
   "metadata": {},
   "outputs": [],
   "source": [
    "data['insurance_cat2'].mask(data['insurance_cat2'] == 'Medicare Advantage', \"Medicare\", inplace=True)\n",
    "data[\"insurance_cat2\"].value_counts()"
   ]
  },
  {
   "cell_type": "code",
   "execution_count": null,
   "metadata": {
    "scrolled": true
   },
   "outputs": [],
   "source": [
    "data[\"age_at_firstVisit\"]=data.groupby(\"ir_id\")[\"age_at_visit\"].transform(\"first\")\n",
    "data[[\"ir_id\",\"age_at_visit\",\"age_at_firstVisit\"]]"
   ]
  },
  {
   "cell_type": "code",
   "execution_count": null,
   "metadata": {},
   "outputs": [],
   "source": [
    "age_cut_labels = ['18-39', '40-64','65+']\n",
    "age_cut_bins = [0, 40, 65,150]\n",
    "data['age_firstVisit_cat'] = pd.cut(data['age_at_firstVisit'], bins=age_cut_bins, labels=age_cut_labels)\n",
    "data['age_firstVisit_cat'].value_counts(dropna=False)"
   ]
  },
  {
   "cell_type": "code",
   "execution_count": null,
   "metadata": {},
   "outputs": [],
   "source": [
    "data[\"Distance\"].describe()"
   ]
  },
  {
   "cell_type": "code",
   "execution_count": null,
   "metadata": {},
   "outputs": [],
   "source": [
    "distance_cut_labels = [1,2,3,4]\n",
    "distance_cut_bins = [0,3.152,6.137,12.327,350]\n",
    "data['distance_cat'] = pd.cut(data['Distance'], bins=distance_cut_bins, labels=distance_cut_labels)\n",
    "data['distance_cat'].value_counts(dropna=False)"
   ]
  },
  {
   "cell_type": "code",
   "execution_count": null,
   "metadata": {},
   "outputs": [],
   "source": [
    "data[\"Charlson_cat\"].value_counts()"
   ]
  },
  {
   "cell_type": "code",
   "execution_count": null,
   "metadata": {},
   "outputs": [],
   "source": [
    "#combining 1-2 as one category\n",
    "data[\"Charlson_cat\"].mask(data['Charlson_cat'] == '2', \"1\", inplace=True)\n",
    "data[\"Charlson_cat\"].value_counts()"
   ]
  },
  {
   "cell_type": "code",
   "execution_count": null,
   "metadata": {},
   "outputs": [],
   "source": [
    "data[\"Charlson_cat\"] = data[\"Charlson_cat\"].apply(lambda x: 0 if x == \"0\"\n",
    "                                                          else (1 if x == \"1\"\n",
    "                                                          else(2)))\n",
    "data[\"Charlson_cat\"].value_counts()"
   ]
  },
  {
   "cell_type": "code",
   "execution_count": null,
   "metadata": {},
   "outputs": [],
   "source": [
    "#data2.to_csv(\"~/Data/tableone_data_230328.csv\")"
   ]
  },
  {
   "cell_type": "code",
   "execution_count": null,
   "metadata": {},
   "outputs": [],
   "source": [
    "data.columns"
   ]
  },
  {
   "cell_type": "code",
   "execution_count": null,
   "metadata": {},
   "outputs": [],
   "source": [
    "#data.to_csv(\"~/Data/tableone_data_230807.csv\")"
   ]
  },
  {
   "cell_type": "code",
   "execution_count": null,
   "metadata": {},
   "outputs": [],
   "source": [
    "fam = sm.families.Binomial()"
   ]
  },
  {
   "cell_type": "code",
   "execution_count": null,
   "metadata": {},
   "outputs": [],
   "source": [
    "ind = sm.cov_struct.Independence()"
   ]
  },
  {
   "cell_type": "code",
   "execution_count": null,
   "metadata": {},
   "outputs": [],
   "source": [
    "black_telehealth = data.loc[(data[\"is_telehealth\"]==True)&(df[\"race_ethnic_cat2\"]== \"Non-Hispanic Black\")]\n",
    "black_inperson = data.loc[(data[\"is_telehealth\"]==False)&(df[\"race_ethnic_cat2\"]== \"Non-Hispanic Black\")]\n",
    "hispanic_telehealth = data.loc[(data[\"is_telehealth\"]==True)&(df[\"race_ethnic_cat2\"]== \"Hispanic\")]\n",
    "hispanic_inperson = data.loc[(data[\"is_telehealth\"]==False)&(df[\"race_ethnic_cat2\"]== \"Hispanic\")]\n",
    "white_telehealth = data.loc[(data[\"is_telehealth\"]==True)&(df[\"race_ethnic_cat2\"]== \"Non-Hispanic White\")]\n",
    "white_inperson = data.loc[(data[\"is_telehealth\"]==False)&(df[\"race_ethnic_cat2\"]== \"Non-Hispanic White\")]"
   ]
  },
  {
   "cell_type": "markdown",
   "metadata": {},
   "source": [
    "# Black telehealth"
   ]
  },
  {
   "cell_type": "code",
   "execution_count": null,
   "metadata": {},
   "outputs": [],
   "source": [
    "mod8 = smf.gee(\"noshow ~ C(provider_specialty_cat,Treatment('Primary Care')) + distance_cat + C(age_firstVisit_cat) + New_Patient + C(Median_Income_Cat)+ C(Charlson_cat)+C(gender)+C(month_quarter) + C(insurance_cat2,Treatment('Commercial'))\", \"ir_id\", black_telehealth, cov_struct=ind, family=fam)\n"
   ]
  },
  {
   "cell_type": "code",
   "execution_count": null,
   "metadata": {},
   "outputs": [],
   "source": [
    "res8 = mod8.fit()"
   ]
  },
  {
   "cell_type": "code",
   "execution_count": null,
   "metadata": {},
   "outputs": [],
   "source": [
    "print(res8.summary())"
   ]
  },
  {
   "cell_type": "code",
   "execution_count": null,
   "metadata": {},
   "outputs": [],
   "source": [
    "params = res8.params\n",
    "conf = res8.conf_int()\n",
    "conf['OR'] = params\n",
    "conf.columns = [\"Lower CI\", \"Upper CI\", \"OR\"]\n",
    "np.exp(conf)"
   ]
  },
  {
   "cell_type": "code",
   "execution_count": null,
   "metadata": {},
   "outputs": [],
   "source": [
    "res8.summary()"
   ]
  },
  {
   "cell_type": "markdown",
   "metadata": {},
   "source": [
    "# Black inperson"
   ]
  },
  {
   "cell_type": "code",
   "execution_count": null,
   "metadata": {},
   "outputs": [],
   "source": [
    "mod8 = smf.gee(\"noshow ~ C(provider_specialty_cat,Treatment('Primary Care')) + distance_cat + C(age_firstVisit_cat) + New_Patient + C(Median_Income_Cat)+ C(Charlson_cat)+C(gender)+C(month_quarter) + C(insurance_cat2,Treatment('Commercial'))\", \"ir_id\", black_inperson, cov_struct=ind, family=fam)\n"
   ]
  },
  {
   "cell_type": "code",
   "execution_count": null,
   "metadata": {},
   "outputs": [],
   "source": [
    "res8 = mod8.fit()"
   ]
  },
  {
   "cell_type": "code",
   "execution_count": null,
   "metadata": {},
   "outputs": [],
   "source": [
    "print(res8.summary())"
   ]
  },
  {
   "cell_type": "code",
   "execution_count": null,
   "metadata": {},
   "outputs": [],
   "source": [
    "params = res8.params\n",
    "conf = res8.conf_int()\n",
    "conf['OR'] = params\n",
    "conf.columns = [\"Lower CI\", \"Upper CI\", \"OR\"]\n",
    "np.exp(conf)"
   ]
  },
  {
   "cell_type": "code",
   "execution_count": null,
   "metadata": {},
   "outputs": [],
   "source": [
    "res8.summary()"
   ]
  },
  {
   "cell_type": "markdown",
   "metadata": {},
   "source": [
    "# Hispanic telehealth"
   ]
  },
  {
   "cell_type": "code",
   "execution_count": null,
   "metadata": {},
   "outputs": [],
   "source": [
    "mod8 = smf.gee(\"noshow ~ C(provider_specialty_cat,Treatment('Primary Care')) + distance_cat + C(age_firstVisit_cat) + New_Patient + C(Median_Income_Cat)+ C(Charlson_cat)+C(gender)+C(month_quarter) + C(insurance_cat2,Treatment('Commercial'))\", \"ir_id\", hispanic_telehealth, cov_struct=ind, family=fam)\n"
   ]
  },
  {
   "cell_type": "code",
   "execution_count": null,
   "metadata": {},
   "outputs": [],
   "source": [
    "res8 = mod8.fit()"
   ]
  },
  {
   "cell_type": "code",
   "execution_count": null,
   "metadata": {},
   "outputs": [],
   "source": [
    "print(res8.summary())"
   ]
  },
  {
   "cell_type": "code",
   "execution_count": null,
   "metadata": {},
   "outputs": [],
   "source": [
    "params = res8.params\n",
    "conf = res8.conf_int()\n",
    "conf['OR'] = params\n",
    "conf.columns = [\"Lower CI\", \"Upper CI\", \"OR\"]\n",
    "np.exp(conf)"
   ]
  },
  {
   "cell_type": "code",
   "execution_count": null,
   "metadata": {},
   "outputs": [],
   "source": [
    "res8.summary()"
   ]
  },
  {
   "cell_type": "markdown",
   "metadata": {},
   "source": [
    "# Hispanic inperson"
   ]
  },
  {
   "cell_type": "code",
   "execution_count": null,
   "metadata": {},
   "outputs": [],
   "source": [
    "mod8 = smf.gee(\"noshow ~ C(provider_specialty_cat,Treatment('Primary Care')) + distance_cat + C(age_firstVisit_cat) + New_Patient + C(Median_Income_Cat)+ C(Charlson_cat)+C(gender)+C(month_quarter) + C(insurance_cat2,Treatment('Commercial'))\", \"ir_id\", hispanic_inperson, cov_struct=ind, family=fam)\n"
   ]
  },
  {
   "cell_type": "code",
   "execution_count": null,
   "metadata": {},
   "outputs": [],
   "source": [
    "res8 = mod8.fit()"
   ]
  },
  {
   "cell_type": "code",
   "execution_count": null,
   "metadata": {},
   "outputs": [],
   "source": [
    "print(res8.summary())"
   ]
  },
  {
   "cell_type": "code",
   "execution_count": null,
   "metadata": {},
   "outputs": [],
   "source": [
    "params = res8.params\n",
    "conf = res8.conf_int()\n",
    "conf['OR'] = params\n",
    "conf.columns = [\"Lower CI\", \"Upper CI\", \"OR\"]\n",
    "np.exp(conf)"
   ]
  },
  {
   "cell_type": "code",
   "execution_count": null,
   "metadata": {},
   "outputs": [],
   "source": [
    "res8.summary()"
   ]
  },
  {
   "cell_type": "markdown",
   "metadata": {},
   "source": [
    "# White telelehealth"
   ]
  },
  {
   "cell_type": "code",
   "execution_count": null,
   "metadata": {},
   "outputs": [],
   "source": [
    "mod8 = smf.gee(\"noshow ~ C(provider_specialty_cat,Treatment('Primary Care')) + distance_cat + C(age_firstVisit_cat) + New_Patient + C(Median_Income_Cat)+ C(Charlson_cat)+C(gender)+C(month_quarter) + C(insurance_cat2,Treatment('Commercial'))\", \"ir_id\", white_telehealth, cov_struct=ind, family=fam)\n"
   ]
  },
  {
   "cell_type": "code",
   "execution_count": null,
   "metadata": {},
   "outputs": [],
   "source": [
    "res8 = mod8.fit()"
   ]
  },
  {
   "cell_type": "code",
   "execution_count": null,
   "metadata": {},
   "outputs": [],
   "source": [
    "print(res8.summary())"
   ]
  },
  {
   "cell_type": "code",
   "execution_count": null,
   "metadata": {},
   "outputs": [],
   "source": [
    "params = res8.params\n",
    "conf = res8.conf_int()\n",
    "conf['OR'] = params\n",
    "conf.columns = [\"Lower CI\", \"Upper CI\", \"OR\"]\n",
    "np.exp(conf)"
   ]
  },
  {
   "cell_type": "code",
   "execution_count": null,
   "metadata": {},
   "outputs": [],
   "source": [
    "res8.summary()"
   ]
  },
  {
   "cell_type": "markdown",
   "metadata": {},
   "source": [
    "# White inperson"
   ]
  },
  {
   "cell_type": "code",
   "execution_count": null,
   "metadata": {},
   "outputs": [],
   "source": [
    "mod8 = smf.gee(\"noshow ~ C(provider_specialty_cat,Treatment('Primary Care')) + distance_cat + C(age_firstVisit_cat) + New_Patient + C(Median_Income_Cat)+ C(Charlson_cat)+C(gender)+C(month_quarter) + C(insurance_cat2,Treatment('Commercial'))\", \"ir_id\", white_inperson, cov_struct=ind, family=fam)\n"
   ]
  },
  {
   "cell_type": "code",
   "execution_count": null,
   "metadata": {},
   "outputs": [],
   "source": [
    "res8 = mod8.fit()"
   ]
  },
  {
   "cell_type": "code",
   "execution_count": null,
   "metadata": {},
   "outputs": [],
   "source": [
    "print(res8.summary())"
   ]
  },
  {
   "cell_type": "code",
   "execution_count": null,
   "metadata": {},
   "outputs": [],
   "source": [
    "params = res8.params\n",
    "conf = res8.conf_int()\n",
    "conf['OR'] = params\n",
    "conf.columns = [\"Lower CI\", \"Upper CI\", \"OR\"]\n",
    "np.exp(conf)"
   ]
  },
  {
   "cell_type": "code",
   "execution_count": null,
   "metadata": {},
   "outputs": [],
   "source": [
    "res8.summary()"
   ]
  },
  {
   "cell_type": "code",
   "execution_count": null,
   "metadata": {},
   "outputs": [],
   "source": []
  },
  {
   "cell_type": "code",
   "execution_count": null,
   "metadata": {},
   "outputs": [],
   "source": []
  },
  {
   "cell_type": "code",
   "execution_count": null,
   "metadata": {},
   "outputs": [],
   "source": []
  },
  {
   "cell_type": "code",
   "execution_count": null,
   "metadata": {},
   "outputs": [],
   "source": []
  },
  {
   "cell_type": "code",
   "execution_count": null,
   "metadata": {},
   "outputs": [],
   "source": []
  },
  {
   "cell_type": "code",
   "execution_count": null,
   "metadata": {},
   "outputs": [],
   "source": []
  }
 ],
 "metadata": {
  "kernelspec": {
   "display_name": "Python 3",
   "language": "python",
   "name": "python3"
  },
  "language_info": {
   "codemirror_mode": {
    "name": "ipython",
    "version": 3
   },
   "file_extension": ".py",
   "mimetype": "text/x-python",
   "name": "python",
   "nbconvert_exporter": "python",
   "pygments_lexer": "ipython3",
   "version": "3.7.4"
  }
 },
 "nbformat": 4,
 "nbformat_minor": 2
}
