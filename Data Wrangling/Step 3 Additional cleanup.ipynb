{
 "cells": [
  {
   "cell_type": "code",
   "execution_count": null,
   "metadata": {},
   "outputs": [],
   "source": [
    "import numpy as np\n",
    "import pandas as pd\n",
    "import seaborn as sns\n",
    "import matplotlib.pyplot as plt"
   ]
  },
  {
   "cell_type": "code",
   "execution_count": null,
   "metadata": {},
   "outputs": [],
   "source": [
    "df = pd.read_csv(\"~/Data/telehealth_combined_ILonly_adults_timepoint_categorical_221222.csv\")\n",
    "df.head()"
   ]
  },
  {
   "cell_type": "code",
   "execution_count": null,
   "metadata": {},
   "outputs": [],
   "source": [
    "median_income = pd.read_csv(\"/share/fsmresfiles/telehealth/median_income.csv\")\n",
    "median_income = median_income[[\"NAME\",\"S1901_C01_012E\"]]\n",
    "median_income2 = median_income.iloc[1: , :]\n",
    "median_income2 = median_income2.rename(columns = {\"NAME\": \"Zipcode\", \"S1901_C01_012E\":\"Household Median Income\"})\n",
    "median_income2[\"Zipcode\"] = median_income2[\"Zipcode\"].str[-5:]\n",
    "median_income2[median_income2[\"Household Median Income\"]==\"-\"].shape"
   ]
  },
  {
   "cell_type": "code",
   "execution_count": null,
   "metadata": {},
   "outputs": [],
   "source": [
    "#drop median_income without any value \n",
    "median_income2 = median_income2[median_income2[\"Household Median Income\"]!=\"-\"]\n",
    "median_income2[\"Household Median Income\"] = median_income2[\"Household Median Income\"].astype('int')\n",
    "median_income2.head()"
   ]
  },
  {
   "cell_type": "code",
   "execution_count": null,
   "metadata": {},
   "outputs": [],
   "source": [
    "median_income2[\"Household Median Income\"].describe()"
   ]
  },
  {
   "cell_type": "code",
   "execution_count": null,
   "metadata": {},
   "outputs": [],
   "source": [
    "median_income3 = median_income2\n",
    "median_income3[\"Median_Income_Cat\"] = median_income3[\"Household Median Income\"].apply(lambda x:\n",
    "                                                                                     \"Q1\" if(x<51194)\n",
    "                                                                                      else (\"Q2\" if ((x>=51194)& (x<61710))\n",
    "                                                                                            else (\"Q3\" if ((x>=61710) & (x<76255))\n",
    "                                                                                                 else \"Q4\")))\n",
    "median_income3[\"Median_Income_Cat\"].value_counts()"
   ]
  },
  {
   "cell_type": "code",
   "execution_count": null,
   "metadata": {},
   "outputs": [],
   "source": [
    "median_income3[[\"Household Median Income\", \"Median_Income_Cat\"]]"
   ]
  },
  {
   "cell_type": "code",
   "execution_count": null,
   "metadata": {},
   "outputs": [],
   "source": [
    "df.shape"
   ]
  },
  {
   "cell_type": "code",
   "execution_count": null,
   "metadata": {},
   "outputs": [],
   "source": [
    "df2 = df\n",
    "median_income4 = median_income3\n",
    "df2[\"patient_postal_code\"] = df[\"patient_postal_code\"].astype(str)\n",
    "median_income4[\"Zipcode\"] = median_income4[\"Zipcode\"].astype(str)"
   ]
  },
  {
   "cell_type": "code",
   "execution_count": null,
   "metadata": {},
   "outputs": [],
   "source": [
    "df3 = df2.merge(median_income4, left_on=\"patient_postal_code\", right_on = \"Zipcode\", how='left')\n",
    "#df2.shape"
   ]
  },
  {
   "cell_type": "code",
   "execution_count": null,
   "metadata": {},
   "outputs": [],
   "source": [
    "df3[[\"patient_postal_code\",\"Zipcode\"]]"
   ]
  },
  {
   "cell_type": "code",
   "execution_count": null,
   "metadata": {},
   "outputs": [],
   "source": [
    "df3[\"Zipcode\"].isna().sum()"
   ]
  },
  {
   "cell_type": "code",
   "execution_count": null,
   "metadata": {},
   "outputs": [],
   "source": [
    "df3.shape"
   ]
  },
  {
   "cell_type": "code",
   "execution_count": null,
   "metadata": {},
   "outputs": [],
   "source": [
    "df3 = df3.dropna(subset=['Zipcode'])\n",
    "df3.shape"
   ]
  },
  {
   "cell_type": "code",
   "execution_count": null,
   "metadata": {},
   "outputs": [],
   "source": [
    "df3.to_csv(\"~/Data/telehealth_combined_ILonly_adults_timepoint_categorical_221222.csv\")"
   ]
  },
  {
   "cell_type": "markdown",
   "metadata": {},
   "source": [
    "# Select for certain subspecialities "
   ]
  },
  {
   "cell_type": "code",
   "execution_count": null,
   "metadata": {},
   "outputs": [],
   "source": [
    "df3 = pd.read_csv(\"~/Data/telehealth_combined_ILonly_adults_timepoint_categorical_221222.csv\")\n",
    "df3.head()"
   ]
  },
  {
   "cell_type": "code",
   "execution_count": null,
   "metadata": {},
   "outputs": [],
   "source": [
    "df4 = df3"
   ]
  },
  {
   "cell_type": "code",
   "execution_count": null,
   "metadata": {},
   "outputs": [],
   "source": [
    "pd.set_option('display.max_rows', 200)"
   ]
  },
  {
   "cell_type": "code",
   "execution_count": null,
   "metadata": {},
   "outputs": [],
   "source": [
    "df4[\"provider_specialty\"].value_counts()"
   ]
  },
  {
   "cell_type": "code",
   "execution_count": null,
   "metadata": {},
   "outputs": [],
   "source": [
    "specialty_list = [ \"Internal Medicine\",\n",
    "                  \"Family Medicine\",\n",
    "                \"Obstetrics and Gynecology\",\n",
    "                  \"Gynecology\",\n",
    "                 \"Cardiology: Invasive Interventional\",\n",
    "                 \"Preventive Cardiology\",\n",
    "                 \"Cardiology: Electrophysiology\",\n",
    "                 \"Cardiology\",\n",
    "                 \"Interventional Cardiology\",\n",
    "                 \"Cardiology: Noninvasive\",\n",
    "                 \"Dermatology\",\n",
    "                  \"Psychiatry\", \n",
    "                  \"Psychology\", \n",
    "                  \"Behavioral Health\",\n",
    "                  \"Gastrointestinal Behavioral Health Psychology\",\n",
    "                  \"PSYCH-BEHAVIORAL\",\n",
    "                  \"Sleep Psychologist\",\n",
    "                  \"Psychiatry -- Non MD\",\n",
    "                  \"PSYCH-BEHAVIORAL\",\n",
    "                  \"Psychosomatic Medicine\", \n",
    "                  \"Psych-Clinical\",\n",
    "                  \"Geriatric Psychiatry\",\n",
    "                 \"Addiction Psychiatry\", \n",
    "                  \"PSYCHIATRY-ADDICTION\",\n",
    "                  \"COUNSELOR\",\n",
    "                  \"Neuropsychology\",\n",
    "                  \"Social Work\"\n",
    "                 \"Dietary Medicine\",\n",
    "                 \"Endocrinology\",\n",
    "                 \"Reproductive Endocrinology and Infertility\",\n",
    "                 \"Bariatric Endocrinology\",\n",
    "                 \"Pulmonology\",\n",
    "                 \"Interventional Pulmonology\",\n",
    "                 \"Pulmonary Disease\",\n",
    "                 \"Reproductive Genetics\",\n",
    "                 \"Genetic\",\n",
    "                 \"Genetic Counseling\",\n",
    "                 \"Medical Genetics\",\n",
    "                 \"Hematology and Medical Oncology\",\n",
    "                 \"Radiation Oncology\",\n",
    "                 \"Medical Oncology\",\n",
    "                 \"Urologic Oncology\",\n",
    "                 \"Neuro-Oncology\",\n",
    "                 \"Orthopaedic Oncology\",\n",
    "                 \"Medical Oncology with Infusion\",\n",
    "                 \"Hematology/Oncology\",\n",
    "                 \"Oncology\",\n",
    "                 \"NeuroOncology\"]\n",
    "df4 = df4[df4[\"provider_specialty\"].isin(specialty_list)]"
   ]
  },
  {
   "cell_type": "code",
   "execution_count": null,
   "metadata": {},
   "outputs": [],
   "source": [
    "df4.shape"
   ]
  },
  {
   "cell_type": "code",
   "execution_count": null,
   "metadata": {},
   "outputs": [],
   "source": [
    "df4[\"provider_specialty\"].value_counts()"
   ]
  },
  {
   "cell_type": "code",
   "execution_count": null,
   "metadata": {},
   "outputs": [],
   "source": [
    "def label_reasons (row):\n",
    "    row[\"provider_specialty\"] = str(row[\"provider_specialty\"]).strip()\n",
    "    if row[\"provider_specialty\"] in [\"Internal Medicine\",\n",
    "                  \"Family Medicine\"]:\n",
    "        return \"Primary Care\"\n",
    "    elif row[\"provider_specialty\"] in [\"Obstetrics and Gynecology\",\n",
    "                  \"Gynecology\"]:\n",
    "        return \"OGBYN\"\n",
    "    elif row[\"provider_specialty\"] in [\"Psychiatry\", \n",
    "                  \"Psychology\", \n",
    "                  \"Behavioral Health\",\n",
    "                  \"Gastrointestinal Behavioral Health Psychology\",\n",
    "                  \"PSYCH-BEHAVIORAL\",\n",
    "                  \"Sleep Psychologist\",\n",
    "                  \"Psychiatry -- Non MD\",\n",
    "                  \"PSYCH-BEHAVIORAL\",\n",
    "                  \"Psychosomatic Medicine\", \n",
    "                  \"Psych-Clinical\",\n",
    "                  \"Geriatric Psychiatry\",\n",
    "                 \"Addiction Psychiatry\", \n",
    "                  \"PSYCHIATRY-ADDICTION\",\n",
    "                  \"COUNSELOR\",\n",
    "                  \"Neuropsychology\",\n",
    "                  \"Social Work\",\n",
    "                  \"Dietary Medicine\"]:\n",
    "        return \"Mental Health and Behavioral Health\"\n",
    "    elif row[\"provider_specialty\"] in [\n",
    "                \"Cardiology: Invasive Interventional\",\n",
    "                \"Preventive Cardiology\",\n",
    "                \"Cardiology: Electrophysiology\",\n",
    "                 \"Cardiology\",\n",
    "                 \"Cardiology\",\n",
    "                 \"Interventional Cardiology\",\n",
    "                 \"Cardiology: Noninvasive\"]:\n",
    "        return \"Cardiology\"\n",
    "    elif row[\"provider_specialty\"] in [\"Endocrinology\",\n",
    "                 \"Reproductive Endocrinology and Infertility\",\n",
    "                 \"Bariatric Endocrinology\",\n",
    "                 \"Endocrine Surgery\",]:\n",
    "        return \"Endocrinology\"\n",
    "    elif row[\"provider_specialty\"] in [\"Orthopaedic Surgery\",\n",
    "                 \"Orthopaedic Sports Medicine\"]:\n",
    "        return \"Orthopedics\"\n",
    "    elif row[\"provider_specialty\"] in [\"Urology\",\n",
    "                 \"Genitourinary Reconstructive Surgery\"]:\n",
    "        return \"Urology\"\n",
    "    elif row[\"provider_specialty\"] in [\"Pulmonology\",\n",
    "                 \"Interventional Pulmonology\",\n",
    "                 \"Pulmonary Disease\"]:\n",
    "        return \"Pulmonology\"\n",
    "    elif row[\"provider_specialty\"] in [\"Reproductive Genetics\",\n",
    "                 \"Genetic\",\n",
    "                 \"Genetic Counseling\",\n",
    "                 \"Medical Genetics\"]:\n",
    "        return \"Genetics\"\n",
    "    elif row[\"provider_specialty\"] in [\"Hematology and Medical Oncology\",\n",
    "                 \"Radiation Oncology\",\n",
    "                 \"Medical Oncology\",\n",
    "                 \"Urologic Oncology\",\n",
    "                 \"Neuro-Oncology\",\n",
    "                 \"Surgical Oncology\",\n",
    "                 \"Neurosurgical Oncology\",\n",
    "                 \"Orthopaedic Oncology\",\n",
    "                 \"Medical Oncology with Infusion\",\n",
    "                 \"Hematology/Oncology\",\n",
    "                 \"Oncology\",\n",
    "                 \"NeuroOncology\"]:\n",
    "        return \"Oncology\"\n",
    " \n",
    "    return row[\"provider_specialty\"]\n",
    "df4[\"provider_specialty_cat\"]=df4.apply(lambda row: label_reasons(row), axis=1)"
   ]
  },
  {
   "cell_type": "code",
   "execution_count": null,
   "metadata": {},
   "outputs": [],
   "source": [
    "df4[\"provider_specialty_cat\"].value_counts(dropna=False)"
   ]
  },
  {
   "cell_type": "code",
   "execution_count": null,
   "metadata": {},
   "outputs": [],
   "source": [
    "df4.shape"
   ]
  },
  {
   "cell_type": "code",
   "execution_count": null,
   "metadata": {},
   "outputs": [],
   "source": [
    "df4 = df4[df4[\"encounter_type_name\"]!=\"Erroneous Encounter\"]\n",
    "df4 = df4[df4[\"encounter_type_name\"]!=\"Erroneous Telephone Encounter\"]\n",
    "df4[\"encounter_type_name\"].value_counts()"
   ]
  },
  {
   "cell_type": "code",
   "execution_count": null,
   "metadata": {},
   "outputs": [],
   "source": [
    "df4.to_csv(\"~/Data/telehealth_combined_ILonly_adults_timepoint_categorical_specialty_221222.csv\")"
   ]
  }
 ],
 "metadata": {
  "kernelspec": {
   "display_name": "Python 3",
   "language": "python",
   "name": "python3"
  },
  "language_info": {
   "codemirror_mode": {
    "name": "ipython",
    "version": 3
   },
   "file_extension": ".py",
   "mimetype": "text/x-python",
   "name": "python",
   "nbconvert_exporter": "python",
   "pygments_lexer": "ipython3",
   "version": "3.7.4"
  }
 },
 "nbformat": 4,
 "nbformat_minor": 2
}
