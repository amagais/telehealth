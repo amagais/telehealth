{
 "cells": [
  {
   "cell_type": "code",
   "execution_count": null,
   "metadata": {},
   "outputs": [],
   "source": [
    "import numpy as np\n",
    "import pandas as pd\n",
    "import seaborn as sns\n",
    "import matplotlib.pyplot as plt"
   ]
  },
  {
   "cell_type": "code",
   "execution_count": null,
   "metadata": {},
   "outputs": [],
   "source": [
    "df_combined_IL = pd.read_csv(\"~/Data/telehealth_combined_ILonly_221222.csv\")"
   ]
  },
  {
   "cell_type": "code",
   "execution_count": null,
   "metadata": {},
   "outputs": [],
   "source": [
    "df_combined_IL[\"encounter_status_name\"].value_counts()"
   ]
  },
  {
   "cell_type": "markdown",
   "metadata": {},
   "source": [
    "# Removing Peds from dataset"
   ]
  },
  {
   "cell_type": "code",
   "execution_count": null,
   "metadata": {},
   "outputs": [],
   "source": [
    "df_combined_IL.shape"
   ]
  },
  {
   "cell_type": "code",
   "execution_count": null,
   "metadata": {},
   "outputs": [],
   "source": [
    "#Removing Peds \n",
    "df_combined_IL2 = df_combined_IL[df_combined_IL[\"provider_specialty\"].str.contains(\"Child|CHILD|child|Pedi|pedi\") == False]"
   ]
  },
  {
   "cell_type": "code",
   "execution_count": null,
   "metadata": {},
   "outputs": [],
   "source": [
    "df_combined_IL2.shape"
   ]
  },
  {
   "cell_type": "code",
   "execution_count": null,
   "metadata": {},
   "outputs": [],
   "source": [
    "df_combined_IL3 = df_combined_IL2[df_combined_IL2[\"department_specialty\"].str.contains(\"Child|CHILD|child|Pedi|pedi\") == False]"
   ]
  },
  {
   "cell_type": "code",
   "execution_count": null,
   "metadata": {},
   "outputs": [],
   "source": [
    "df_combined_IL3.shape"
   ]
  },
  {
   "cell_type": "code",
   "execution_count": null,
   "metadata": {},
   "outputs": [],
   "source": [
    "df_combined_IL3.to_csv(\"~/Data/telehealth_combined_ILonly_adults_221222.csv\")"
   ]
  },
  {
   "cell_type": "markdown",
   "metadata": {},
   "source": [
    "# Downloading adults only dataset"
   ]
  },
  {
   "cell_type": "code",
   "execution_count": null,
   "metadata": {},
   "outputs": [],
   "source": [
    "df_combined_IL4 = pd.read_csv(\"~/Data/telehealth_combined_ILonly_adults_221222.csv\")"
   ]
  },
  {
   "cell_type": "code",
   "execution_count": null,
   "metadata": {},
   "outputs": [],
   "source": [
    "df_combined_IL4.shape"
   ]
  },
  {
   "cell_type": "code",
   "execution_count": null,
   "metadata": {},
   "outputs": [],
   "source": [
    "df = df_combined_IL4"
   ]
  },
  {
   "cell_type": "code",
   "execution_count": null,
   "metadata": {},
   "outputs": [],
   "source": [
    "df2 = df\n",
    "df2[\"timepoint\"]= df2[\"encounter_start_date_key\"].apply(lambda x: x[0:4])\n",
    "df2[\"timepoint\"][0]"
   ]
  },
  {
   "cell_type": "code",
   "execution_count": null,
   "metadata": {},
   "outputs": [],
   "source": [
    "df2[\"timepoint\"].value_counts()\n"
   ]
  },
  {
   "cell_type": "code",
   "execution_count": null,
   "metadata": {},
   "outputs": [],
   "source": [
    "df2 = df2[(df2[\"timepoint\"]==\"2019\")|\n",
    "         (df2[\"timepoint\"]==\"2020\")|\n",
    "         (df2[\"timepoint\"]==\"2021\")|\n",
    "         (df2[\"timepoint\"]==\"2022\")]"
   ]
  },
  {
   "cell_type": "code",
   "execution_count": null,
   "metadata": {},
   "outputs": [],
   "source": [
    "df2[\"timepoint\"].value_counts(dropna=False)"
   ]
  },
  {
   "cell_type": "code",
   "execution_count": null,
   "metadata": {},
   "outputs": [],
   "source": [
    "df2.to_csv(\"~/Data/telehealth_combined_ILonly_adults_timepoint_221222.csv\")"
   ]
  },
  {
   "cell_type": "markdown",
   "metadata": {},
   "source": [
    "# Downloading dataset with time points 2019, 2020, 2021, 2022"
   ]
  },
  {
   "cell_type": "code",
   "execution_count": null,
   "metadata": {},
   "outputs": [],
   "source": [
    "df4 = pd.read_csv(\"~/Data/telehealth_combined_ILonly_adults_timepoint_221222.csv\")"
   ]
  },
  {
   "cell_type": "code",
   "execution_count": null,
   "metadata": {},
   "outputs": [],
   "source": [
    "df = df4"
   ]
  },
  {
   "cell_type": "code",
   "execution_count": null,
   "metadata": {},
   "outputs": [],
   "source": [
    "df = df[(df['patient_state_province']==\"Illinois\") | (df['patient_state_province']==\"IL\")]"
   ]
  },
  {
   "cell_type": "code",
   "execution_count": null,
   "metadata": {},
   "outputs": [],
   "source": [
    "df.columns"
   ]
  },
  {
   "cell_type": "markdown",
   "metadata": {},
   "source": [
    "# Race ethnicity"
   ]
  },
  {
   "cell_type": "code",
   "execution_count": null,
   "metadata": {},
   "outputs": [],
   "source": [
    "df[\"race_1\"].value_counts(dropna=False)"
   ]
  },
  {
   "cell_type": "code",
   "execution_count": null,
   "metadata": {},
   "outputs": [],
   "source": [
    "df.loc[df.race_1.isnull()==True, \"race_1\"]=\"Unknown\""
   ]
  },
  {
   "cell_type": "code",
   "execution_count": null,
   "metadata": {},
   "outputs": [],
   "source": [
    "df[\"race_1\"].value_counts(dropna=False)"
   ]
  },
  {
   "cell_type": "code",
   "execution_count": null,
   "metadata": {},
   "outputs": [],
   "source": [
    "race_map = {'White': 'White',\n",
    "                   'Black or African American': 'Black',\n",
    "                   'Other': 'Other',\n",
    "                   'Declined': 'Other',\n",
    "                   'Declined to answer': 'Other',\n",
    "                   'Asian': 'Other',\n",
    "                   'Unable to Answer': 'Other',\n",
    "                   'Unknown': 'Other',\n",
    "                   'American Indian or Alaska Native':'Other',\n",
    "                   'Native Hawaiian or Other Pacific Islander':'Other',\n",
    "                   '2 or more races': 'Other',\n",
    "                   'Hispanic': 'Hispanic',\n",
    "                   'American Indian or Alaskan Native':'Other'}\n",
    "\n",
    "df['race_cat'] = df['race_1'].map(race_map)\n",
    "df[\"race_cat\"].value_counts()"
   ]
  },
  {
   "cell_type": "code",
   "execution_count": null,
   "metadata": {},
   "outputs": [],
   "source": [
    "df[\"ethnic_group\"].value_counts(dropna=False)"
   ]
  },
  {
   "cell_type": "code",
   "execution_count": null,
   "metadata": {},
   "outputs": [],
   "source": [
    "#if it's a null value, asign as \"unknown\"\n",
    "df.loc[df.ethnic_group.isnull()==True, \"ethnic_group\"]=\"Unknown\""
   ]
  },
  {
   "cell_type": "code",
   "execution_count": null,
   "metadata": {},
   "outputs": [],
   "source": [
    "df[\"ethnic_group\"].value_counts(dropna=False)"
   ]
  },
  {
   "cell_type": "code",
   "execution_count": null,
   "metadata": {},
   "outputs": [],
   "source": [
    "ethnic_map = {'Not Hispanic or Latino': 'Non-Hispanic',\n",
    "                   'Hispanic or Latino': 'Hispanic',\n",
    "                   'Declined': 'Declined to answer',\n",
    "                   'Unable to Answer': 'Other',\n",
    "                     'Unknown': 'Other'}\n",
    "\n",
    "df['ethnic_cat'] = df['ethnic_group'].map(ethnic_map)\n",
    "df[\"ethnic_cat\"].value_counts()"
   ]
  },
  {
   "cell_type": "code",
   "execution_count": null,
   "metadata": {},
   "outputs": [],
   "source": [
    "df[\"race_ethnic\"] = df[\"ethnic_cat\"] + \" \" + df[\"race_cat\"]"
   ]
  },
  {
   "cell_type": "code",
   "execution_count": null,
   "metadata": {},
   "outputs": [],
   "source": [
    "df[\"race_ethnic\"].value_counts(dropna=False)"
   ]
  },
  {
   "cell_type": "code",
   "execution_count": null,
   "metadata": {},
   "outputs": [],
   "source": [
    "race_ethnic_map = {'Non-Hispanic White': 'Non-Hispanic White',\n",
    "                   'Non-Hispanic Black': 'Non-Hispanic Black',\n",
    "                   'Other Other': 'Other',\n",
    "                   'Hispanic White': 'Hispanic',\n",
    "                   'Non-Hispanic Other': 'Other',\n",
    "                  'Hispanic Other': 'Hispanic',\n",
    "                  'Non-Hispanic Asian': 'Asian',\n",
    "                  'Other White': 'Other',\n",
    "                  'Other Black':'Other',\n",
    "                  'Other Asian':'Asian',\n",
    "                  'Hispanic Black':'Hispanic',\n",
    "                  'Hispanic Asian':'Asian',\n",
    "                  'Declined to answer Declined to answer':'Declined to answer',\n",
    "                  'Declined to answer White': 'Declined to answer',\n",
    "                  'Non-Hispanic Declined to answer':'Declined to answer',\n",
    "                  'Declined to answer Other':'Declined to answer',\n",
    "                  'Hispanic Declined to answer':'Hispanic',\n",
    "                  'Declined to answer Black':'Declined to answer',\n",
    "                  'Declined to answer Asian':'Asian',\n",
    "                  'Other Declined to answer':'Declined to answer'}\n",
    "\n",
    "df['race_ethnic_cat'] = df['race_ethnic'].map(race_ethnic_map)"
   ]
  },
  {
   "cell_type": "code",
   "execution_count": null,
   "metadata": {},
   "outputs": [],
   "source": [
    "df['race_ethnic_cat'].value_counts(dropna=False)"
   ]
  },
  {
   "cell_type": "markdown",
   "metadata": {},
   "source": [
    "# Economic distress"
   ]
  },
  {
   "cell_type": "code",
   "execution_count": null,
   "metadata": {},
   "outputs": [],
   "source": [
    "median_income = pd.read_csv(\"median_income.csv\")\n",
    "median_income = median_income[[\"NAME\",\"S1901_C01_012E\"]]\n",
    "median_income2 = median_income.iloc[1: , :]\n",
    "median_income2 = median_income2.rename(columns = {\"NAME\": \"Zipcode\", \"S1901_C01_012E\":\"Household Median Income\"})\n",
    "median_income2[\"Zipcode\"] = median_income2[\"Zipcode\"].str[-5:]\n",
    "median_income2[median_income2[\"Household Median Income\"]==\"-\"].shape"
   ]
  },
  {
   "cell_type": "code",
   "execution_count": null,
   "metadata": {},
   "outputs": [],
   "source": [
    "list_zip_dropped = list(median_income2[median_income2[\"Household Median Income\"]==\"-\"][\"Zipcode\"])\n",
    "list_zip_dropped"
   ]
  },
  {
   "cell_type": "code",
   "execution_count": null,
   "metadata": {},
   "outputs": [],
   "source": [
    "median_income.shape"
   ]
  },
  {
   "cell_type": "code",
   "execution_count": null,
   "metadata": {},
   "outputs": [],
   "source": [
    "#drop median_income without any value \n",
    "median_income2 = median_income2[median_income2[\"Household Median Income\"]!=\"-\"]\n",
    "median_income2[\"Household Median Income\"] = median_income2[\"Household Median Income\"].astype('int')\n",
    "median_income2.head()"
   ]
  },
  {
   "cell_type": "code",
   "execution_count": null,
   "metadata": {
    "scrolled": true
   },
   "outputs": [],
   "source": [
    "#sort values by household median income\n",
    "median_income3 = median_income2.sort_values(\"Household Median Income\",ascending=True)\n",
    "median_income3"
   ]
  },
  {
   "cell_type": "code",
   "execution_count": null,
   "metadata": {},
   "outputs": [],
   "source": [
    "median_income3[\"Household Median Income\"].describe()"
   ]
  },
  {
   "cell_type": "code",
   "execution_count": null,
   "metadata": {},
   "outputs": [],
   "source": [
    "median_income_lowest25 = median_income3.iloc[0: 335, :]\n",
    "median_income_lowest25"
   ]
  },
  {
   "cell_type": "code",
   "execution_count": null,
   "metadata": {},
   "outputs": [],
   "source": [
    "median_income3[\"Household Median Income\"]"
   ]
  },
  {
   "cell_type": "code",
   "execution_count": null,
   "metadata": {},
   "outputs": [],
   "source": [
    "df[\"primary_financial_class\"].value_counts(dropna=False)"
   ]
  },
  {
   "cell_type": "code",
   "execution_count": null,
   "metadata": {},
   "outputs": [],
   "source": [
    "df.loc[df.primary_financial_class.isnull()==True, \"primary_financial_class\"]=\"Other\""
   ]
  },
  {
   "cell_type": "code",
   "execution_count": null,
   "metadata": {},
   "outputs": [],
   "source": [
    "df[\"primary_financial_class\"].value_counts(dropna=False)"
   ]
  },
  {
   "cell_type": "code",
   "execution_count": null,
   "metadata": {},
   "outputs": [],
   "source": [
    "insurance_map = {'BCBS': 'Commercial',\n",
    "                   'Commercial/Managed Care': 'Commercial',\n",
    "                   'Medicare': 'Medicare',\n",
    "                   'Self-Pay': 'Self-Pay',\n",
    "                   'Medicaid Replacement': 'Medicaid',\n",
    "                  'Medicare Advantage': 'Medicare Advantage',\n",
    "                  'Self-pay': 'Self-Pay',\n",
    "                  'Medicaid': 'Medicaid',\n",
    "                  'Non-Contracted/Commercial':'Commercial',\n",
    "                  \"Worker's Comp\":'Other',\n",
    "                  'Pending Medicaid':'Medicaid',\n",
    "                'Commercial':'Commercial',\n",
    "                'Medicare Advantage/Replacement':'Medicare Advantage',\n",
    "                'Other':'Other'}\n",
    "\n",
    "df_orig3['insurance_cat2'] = df_orig3['primary_financial_class'].map(insurance_map)\n",
    "df_orig3['insurance_cat2'].value_counts(dropna=False)"
   ]
  },
  {
   "cell_type": "code",
   "execution_count": null,
   "metadata": {},
   "outputs": [],
   "source": [
    "df_orig3 = df_orig3[df_orig3[\"insurance_cat2\"]!=\"Other\"]\n",
    "df_orig3['insurance_cat2'].value_counts(dropna=False)"
   ]
  },
  {
   "cell_type": "code",
   "execution_count": null,
   "metadata": {},
   "outputs": [],
   "source": [
    "list_lowest25 = list(median_income_lowest25[\"Zipcode\"])"
   ]
  },
  {
   "cell_type": "code",
   "execution_count": null,
   "metadata": {},
   "outputs": [],
   "source": [
    "df[\"is_lowest25\"] = df[\"patient_postal_code\"].isin(list_lowest25)\n",
    "df[\"zip_dropped\"] = df[\"patient_postal_code\"].isin(list_zip_dropped)"
   ]
  },
  {
   "cell_type": "code",
   "execution_count": null,
   "metadata": {},
   "outputs": [],
   "source": [
    "df[\"patient_postal_code\"] = df[\"patient_postal_code\"].str[:5]\n",
    "df[\"economic_distress_cat\"] = df.apply(lambda x: \"HPED\" if (((x[\"insurance_cat\"]==\"Medicare\")|(x[\"insurance_cat\"]==\"Medicaid\")) \n",
    "                               & x[\"is_lowest25\"]==True)\n",
    "                                       else (\"dropped zip\" if (x[\"zip_dropped\"]==True)\n",
    "                                           else \"LPED\"), axis=1)\n",
    "df[\"economic_distress_cat\"]"
   ]
  },
  {
   "cell_type": "code",
   "execution_count": null,
   "metadata": {},
   "outputs": [],
   "source": [
    "df['economic_distress_cat'].value_counts(dropna=False)"
   ]
  },
  {
   "cell_type": "code",
   "execution_count": null,
   "metadata": {},
   "outputs": [],
   "source": [
    "df2 = df[df['economic_distress_cat']!=\"dropped zip\"]"
   ]
  },
  {
   "cell_type": "markdown",
   "metadata": {},
   "source": [
    "# Age"
   ]
  },
  {
   "cell_type": "code",
   "execution_count": null,
   "metadata": {},
   "outputs": [],
   "source": [
    "df2['age_at_visit'].value_counts(dropna=False)"
   ]
  },
  {
   "cell_type": "code",
   "execution_count": null,
   "metadata": {},
   "outputs": [],
   "source": [
    "df2['age_at_visit'].describe()"
   ]
  },
  {
   "cell_type": "code",
   "execution_count": null,
   "metadata": {},
   "outputs": [],
   "source": [
    "age_cut_labels = ['18-39', '40-64','65+']\n",
    "age_cut_bins = [0, 39, 64,150]\n",
    "df2['age_cat'] = pd.cut(df['age_at_visit'], bins=age_cut_bins, labels=age_cut_labels)\n",
    "df2['age_cat'].value_counts(dropna=False)"
   ]
  },
  {
   "cell_type": "code",
   "execution_count": null,
   "metadata": {},
   "outputs": [],
   "source": [
    "df2[[\"age_cat\",\"age_at_visit\"]]"
   ]
  },
  {
   "cell_type": "markdown",
   "metadata": {},
   "source": [
    "# Sex"
   ]
  },
  {
   "cell_type": "code",
   "execution_count": null,
   "metadata": {},
   "outputs": [],
   "source": [
    "df2[\"gender\"].value_counts(dropna=False)"
   ]
  },
  {
   "cell_type": "code",
   "execution_count": null,
   "metadata": {},
   "outputs": [],
   "source": [
    "df3 = df2[df2[\"gender\"]!=\"U\"]"
   ]
  },
  {
   "cell_type": "code",
   "execution_count": null,
   "metadata": {},
   "outputs": [],
   "source": [
    "df3[\"gender\"].value_counts(dropna=False)"
   ]
  },
  {
   "cell_type": "markdown",
   "metadata": {},
   "source": [
    "# Comorbidity"
   ]
  },
  {
   "cell_type": "code",
   "execution_count": null,
   "metadata": {},
   "outputs": [],
   "source": [
    "df3[\"Charlson_score\"].value_counts(dropna=False)"
   ]
  },
  {
   "cell_type": "code",
   "execution_count": null,
   "metadata": {},
   "outputs": [],
   "source": [
    "df3[\"Charlson_score\"].describe()"
   ]
  },
  {
   "cell_type": "code",
   "execution_count": null,
   "metadata": {},
   "outputs": [],
   "source": [
    "Charlson_cut_labels = ['0','1','2','3+']\n",
    "Charlson_cut_bins = [-1, 0, 1, 2, 100]\n",
    "df3['Charlson_cat'] = pd.cut(df['Charlson_score'], bins=Charlson_cut_bins, labels=Charlson_cut_labels)\n",
    "df3['Charlson_cat'].value_counts(dropna=False)"
   ]
  },
  {
   "cell_type": "code",
   "execution_count": null,
   "metadata": {},
   "outputs": [],
   "source": [
    "df3[[\"Charlson_cat\",\"Charlson_score\"]]"
   ]
  },
  {
   "cell_type": "code",
   "execution_count": null,
   "metadata": {},
   "outputs": [],
   "source": [
    "#creating a second Charlson category, based on Huang et al.'s paper\n",
    "Charlson_cut_labels = ['0', '1-2', '3-4','5+']\n",
    "Charlson_cut_bins = [-1, 0, 2, 5, 25]\n",
    "df3['Charlson_cat_2'] = pd.cut(df['Charlson_score'], bins=Charlson_cut_bins, labels=Charlson_cut_labels)\n",
    "df3['Charlson_cat_2'].value_counts(dropna=False)"
   ]
  },
  {
   "cell_type": "code",
   "execution_count": null,
   "metadata": {},
   "outputs": [],
   "source": [
    "df3[[\"Charlson_cat_2\",\"Charlson_score\"]]"
   ]
  },
  {
   "cell_type": "markdown",
   "metadata": {},
   "source": [
    "# Reason for visit"
   ]
  },
  {
   "cell_type": "code",
   "execution_count": null,
   "metadata": {},
   "outputs": [],
   "source": [
    "df4= df3"
   ]
  },
  {
   "cell_type": "code",
   "execution_count": null,
   "metadata": {},
   "outputs": [],
   "source": [
    "df4[['department_specialty', 'reason_for_visit', 'chief_complaint']]"
   ]
  },
  {
   "cell_type": "code",
   "execution_count": null,
   "metadata": {},
   "outputs": [],
   "source": [
    "pd.set_option(\"display.max_rows\", 10)"
   ]
  },
  {
   "cell_type": "code",
   "execution_count": null,
   "metadata": {
    "scrolled": false
   },
   "outputs": [],
   "source": [
    "df4[\"reason_for_visit\"].value_counts()"
   ]
  },
  {
   "cell_type": "code",
   "execution_count": null,
   "metadata": {},
   "outputs": [],
   "source": [
    "df4.to_csv(\"~/Data/telehealth_combined_ILonly_adults_timepoint_categorical_221222.csv\")"
   ]
  },
  {
   "cell_type": "code",
   "execution_count": null,
   "metadata": {},
   "outputs": [],
   "source": []
  },
  {
   "cell_type": "code",
   "execution_count": null,
   "metadata": {},
   "outputs": [],
   "source": []
  },
  {
   "cell_type": "code",
   "execution_count": null,
   "metadata": {},
   "outputs": [],
   "source": []
  },
  {
   "cell_type": "code",
   "execution_count": null,
   "metadata": {},
   "outputs": [],
   "source": []
  }
 ],
 "metadata": {
  "kernelspec": {
   "display_name": "Python 2",
   "language": "python",
   "name": "python2"
  },
  "language_info": {
   "codemirror_mode": {
    "name": "ipython",
    "version": 3
   },
   "file_extension": ".py",
   "mimetype": "text/x-python",
   "name": "python",
   "nbconvert_exporter": "python",
   "pygments_lexer": "ipython3",
   "version": "3.7.4"
  }
 },
 "nbformat": 4,
 "nbformat_minor": 2
}
