{
 "cells": [
  {
   "cell_type": "code",
   "execution_count": null,
   "metadata": {},
   "outputs": [],
   "source": [
    "import numpy as np\n",
    "import pandas as pd\n",
    "import seaborn as sns\n",
    "import matplotlib.pyplot as plt"
   ]
  },
  {
   "cell_type": "code",
   "execution_count": null,
   "metadata": {},
   "outputs": [],
   "source": [
    "df_orig = pd.read_csv(\"~/Data/telehealth_combined_ILonly_adults_timepoint_categorical_specialty_221222.csv\")"
   ]
  },
  {
   "cell_type": "code",
   "execution_count": null,
   "metadata": {},
   "outputs": [],
   "source": [
    "df=df_orig\n",
    "df.head()"
   ]
  },
  {
   "cell_type": "code",
   "execution_count": null,
   "metadata": {},
   "outputs": [],
   "source": [
    "df.columns"
   ]
  },
  {
   "cell_type": "code",
   "execution_count": null,
   "metadata": {},
   "outputs": [],
   "source": [
    "df[\"year_month\"] = df[\"encounter_start_date_key\"].str[0:7]\n",
    "df[\"year_month\"]"
   ]
  },
  {
   "cell_type": "code",
   "execution_count": null,
   "metadata": {},
   "outputs": [],
   "source": [
    "#remove time points after June 2022\n",
    "df2 = df[(df[\"year_month\"]!=\"2022-07\")&(df[\"year_month\"]!=\"2022-08\")]\n",
    "df2"
   ]
  },
  {
   "cell_type": "code",
   "execution_count": null,
   "metadata": {},
   "outputs": [],
   "source": [
    "conditions = [\n",
    "    (df2['year_month'] == \"2019-01\"),\n",
    "    (df2['year_month'] == \"2019-02\"),\n",
    "    (df2['year_month'] == \"2019-03\"),\n",
    "    (df2['year_month'] == \"2019-04\"),\n",
    "    (df2['year_month'] == \"2019-05\"),\n",
    "    (df2['year_month'] == \"2019-06\"),\n",
    "    (df2['year_month'] == \"2019-07\"),\n",
    "    (df2['year_month'] == \"2019-08\"),\n",
    "    (df2['year_month'] == \"2019-09\"),\n",
    "    (df2['year_month'] == \"2019-10\"),\n",
    "    (df2['year_month'] == \"2019-11\"),\n",
    "    (df2['year_month'] == \"2019-12\"),\n",
    "    (df2['year_month'] == \"2020-01\"),\n",
    "    (df2['year_month'] == \"2020-02\"),\n",
    "    (df2['year_month'] == \"2020-03\"),\n",
    "    (df2['year_month'] == \"2020-04\"),\n",
    "    (df2['year_month'] == \"2020-05\"),\n",
    "    (df2['year_month'] == \"2020-06\"),\n",
    "    (df2['year_month'] == \"2020-07\"),\n",
    "    (df2['year_month'] == \"2020-08\"),\n",
    "    (df2['year_month'] == \"2020-09\"),\n",
    "    (df2['year_month'] == \"2020-10\"),\n",
    "    (df2['year_month'] == \"2020-11\"),\n",
    "    (df2['year_month'] == \"2020-12\"),\n",
    "     (df2['year_month'] == \"2021-01\"),\n",
    "    (df2['year_month'] == \"2021-02\"),\n",
    "    (df2['year_month'] == \"2021-03\"),\n",
    "    (df2['year_month'] == \"2021-04\"),\n",
    "    (df2['year_month'] == \"2021-05\"),\n",
    "    (df2['year_month'] == \"2021-06\"),\n",
    "    (df2['year_month'] == \"2021-07\"),\n",
    "    (df2['year_month'] == \"2021-08\"),\n",
    "    (df2['year_month'] == \"2021-09\"),\n",
    "    (df2['year_month'] == \"2021-10\"),\n",
    "    (df2['year_month'] == \"2021-11\"),\n",
    "    (df2['year_month'] == \"2021-12\"),\n",
    "     (df2['year_month'] == \"2022-01\"),\n",
    "    (df2['year_month'] == \"2022-02\"),\n",
    "    (df2['year_month'] == \"2022-03\"),\n",
    "    (df2['year_month'] == \"2022-04\"),\n",
    "    (df2['year_month'] == \"2022-05\"),\n",
    "    (df2['year_month'] == \"2022-06\")]\n",
    "\n",
    "values=[\"Jan to Mar 2019\",\n",
    "       \"Jan to Mar 2019\",\n",
    "       \"Jan to Mar 2019\",\n",
    "       \"Apr to Jun 2019\",\n",
    "       \"Apr to Jun 2019\",\n",
    "       \"Apr to Jun 2019\",\n",
    "       \"Jul to Sep 2019\",\n",
    "       \"Jul to Sep 2019\",\n",
    "       \"Jul to Sep 2019\",\n",
    "        \"Oct to Dec 2019\",\n",
    "       \"Oct to Dec 2019\",\n",
    "       \"Oct to Dec 2019\",\n",
    "       \"Jan to Mar 2020\",\n",
    "       \"Jan to Mar 2020\",\n",
    "       \"Jan to Mar 2020\",\n",
    "       \"Apr to Jun 2020\",\n",
    "       \"Apr to Jun 2020\",\n",
    "       \"Apr to Jun 2020\",\n",
    "       \"Jul to Sep 2020\",\n",
    "       \"Jul to Sep 2020\",\n",
    "       \"Jul to Sep 2020\",\n",
    "        \"Oct to Dec 2020\",\n",
    "       \"Oct to Dec 2020\",\n",
    "       \"Oct to Dec 2020\",\n",
    "        \"Jan to Mar 2021\",\n",
    "       \"Jan to Mar 2021\",\n",
    "       \"Jan to Mar 2021\",\n",
    "       \"Apr to Jun 2021\",\n",
    "       \"Apr to Jun 2021\",\n",
    "       \"Apr to Jun 2021\",\n",
    "       \"Jul to Sep 2021\",\n",
    "       \"Jul to Sep 2021\",\n",
    "       \"Jul to Sep 2021\",\n",
    "        \"Oct to Dec 2021\",\n",
    "       \"Oct to Dec 2021\",\n",
    "       \"Oct to Dec 2021\",\n",
    "        \"Jan to Mar 2022\",\n",
    "       \"Jan to Mar 2022\",\n",
    "       \"Jan to Mar 2022\",\n",
    "       \"Apr to Jun 2022\",\n",
    "       \"Apr to Jun 2022\",\n",
    "       \"Apr to Jun 2022\"]\n",
    "\n",
    "df2['month_quarter'] = np.select(conditions, values)\n",
    "df2.head()"
   ]
  },
  {
   "cell_type": "code",
   "execution_count": null,
   "metadata": {},
   "outputs": [],
   "source": [
    "df2[\"insurance_cat2\"].value_counts()"
   ]
  },
  {
   "cell_type": "code",
   "execution_count": null,
   "metadata": {},
   "outputs": [],
   "source": [
    "df2.columns"
   ]
  },
  {
   "cell_type": "code",
   "execution_count": null,
   "metadata": {},
   "outputs": [],
   "source": [
    "df3 = df2"
   ]
  },
  {
   "cell_type": "code",
   "execution_count": null,
   "metadata": {},
   "outputs": [],
   "source": [
    "#distinguishing phoen and vieo calls \n",
    "df3[\"video_vs_tele\"] = pd.np.where(df3.telehealth_visit_type.str.contains(\"VIDEO\"), \"video\",\n",
    "                   pd.np.where(df3.telehealth_visit_type.str.contains(\"PHONE\"), \"phone\",\n",
    "                   pd.np.where(df3.telehealth_visit_type.str.contains(\"TELEPHONE\"), \"phone\",\"neither\")))"
   ]
  },
  {
   "cell_type": "code",
   "execution_count": null,
   "metadata": {},
   "outputs": [],
   "source": [
    "df3[\"video_vs_tele\"].value_counts()"
   ]
  },
  {
   "cell_type": "code",
   "execution_count": null,
   "metadata": {},
   "outputs": [],
   "source": [
    "df4 = df3[df3[\"video_vs_tele\"]!=\"neither\"]\n",
    "df4[\"video_vs_tele\"].value_counts()"
   ]
  },
  {
   "cell_type": "code",
   "execution_count": null,
   "metadata": {},
   "outputs": [],
   "source": [
    "#only keeping the video calls\n",
    "df5 = df4[df4[\"video_vs_tele\"]==\"video\"]\n",
    "df5[\"video_vs_tele\"].value_counts()"
   ]
  },
  {
   "cell_type": "code",
   "execution_count": null,
   "metadata": {},
   "outputs": [],
   "source": [
    "df5.to_csv(\"~/Data/telehealth_final_video_221222.csv\")"
   ]
  },
  {
   "cell_type": "code",
   "execution_count": null,
   "metadata": {},
   "outputs": [],
   "source": []
  }
 ],
 "metadata": {
  "kernelspec": {
   "display_name": "Python 3",
   "language": "python",
   "name": "python3"
  },
  "language_info": {
   "codemirror_mode": {
    "name": "ipython",
    "version": 3
   },
   "file_extension": ".py",
   "mimetype": "text/x-python",
   "name": "python",
   "nbconvert_exporter": "python",
   "pygments_lexer": "ipython3",
   "version": "3.7.4"
  }
 },
 "nbformat": 4,
 "nbformat_minor": 2
}
